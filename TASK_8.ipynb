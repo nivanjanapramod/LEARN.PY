{
  "nbformat": 4,
  "nbformat_minor": 0,
  "metadata": {
    "colab": {
      "name": "TASK 8.ipynb",
      "provenance": [],
      "include_colab_link": true
    },
    "kernelspec": {
      "name": "python3",
      "display_name": "Python 3"
    },
    "language_info": {
      "name": "python"
    }
  },
  "cells": [
    {
      "cell_type": "markdown",
      "metadata": {
        "id": "view-in-github",
        "colab_type": "text"
      },
      "source": [
        "<a href=\"https://colab.research.google.com/github/nivanjanapramod/LEARN.PY/blob/main/TASK_8.ipynb\" target=\"_parent\"><img src=\"https://colab.research.google.com/assets/colab-badge.svg\" alt=\"Open In Colab\"/></a>"
      ]
    },
    {
      "cell_type": "markdown",
      "metadata": {
        "id": "slsGswYbJSo7"
      },
      "source": [
        "1. Generate a 3 x 3 matrix using random module."
      ]
    },
    {
      "cell_type": "code",
      "metadata": {
        "id": "GGRQSYyNJW9t",
        "outputId": "0799d750-46a1-486a-8ae4-6d245b83eaae",
        "colab": {
          "base_uri": "https://localhost:8080/"
        }
      },
      "source": [
        "#please provide your answer below this line.\n",
        "import random\n",
        "\n",
        "l=[ [ None for y in range( 3 ) ] for x in range( 3 ) ]\n",
        "for i in range(3):\n",
        "  for j in range(3):\n",
        "    l[i][j]=random.randint(1,100)\n",
        "print(l)"
      ],
      "execution_count": 9,
      "outputs": [
        {
          "output_type": "stream",
          "text": [
            "[[40, 46, 56], [18, 5, 2], [98, 99, 17]]\n"
          ],
          "name": "stdout"
        }
      ]
    },
    {
      "cell_type": "markdown",
      "metadata": {
        "id": "4OB9KFX6JfYA"
      },
      "source": [
        "2. Generate two 4 x 4 matrix using numpy and \n",
        "\n",
        " a) Reshape it to 2 x 8matrix and vertically stack it.\n",
        "\n",
        " b) Reshape it to 2 x 8 matrix and horizontally stack it."
      ]
    },
    {
      "cell_type": "code",
      "metadata": {
        "id": "VoIqYeNWJ4H_",
        "outputId": "41484e4c-a60a-4074-b184-7b3543019e1d",
        "colab": {
          "base_uri": "https://localhost:8080/"
        }
      },
      "source": [
        "#please provide your answer below this line.\n",
        "import numpy as np\n",
        "\n",
        "arr = np.array([[1, 2, 3, 4],\n",
        "                [4, 5, 6, 7],\n",
        "                [8, 9, 7, 8],\n",
        "                [3, 7, 4, 2]])\n",
        "print(arr)\n",
        "reshaped = np.reshape(arr, (2, 8))\n",
        "print(np.vstack(reshaped))\n",
        "print(np.hstack(reshaped))"
      ],
      "execution_count": 16,
      "outputs": [
        {
          "output_type": "stream",
          "text": [
            "[[1 2 3 4]\n",
            " [4 5 6 7]\n",
            " [8 9 7 8]\n",
            " [3 7 4 2]]\n",
            "[[1 2 3 4 4 5 6 7]\n",
            " [8 9 7 8 3 7 4 2]]\n",
            "[1 2 3 4 4 5 6 7 8 9 7 8 3 7 4 2]\n"
          ],
          "name": "stdout"
        }
      ]
    }
  ]
}