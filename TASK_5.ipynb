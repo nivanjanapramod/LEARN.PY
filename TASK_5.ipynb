{
  "nbformat": 4,
  "nbformat_minor": 0,
  "metadata": {
    "colab": {
      "name": "TASK 5.ipynb",
      "provenance": [],
      "include_colab_link": true
    },
    "kernelspec": {
      "name": "python3",
      "display_name": "Python 3"
    },
    "language_info": {
      "name": "python"
    }
  },
  "cells": [
    {
      "cell_type": "markdown",
      "metadata": {
        "id": "view-in-github",
        "colab_type": "text"
      },
      "source": [
        "<a href=\"https://colab.research.google.com/github/nivanjanapramod/LEARN.PY/blob/main/TASK_5.ipynb\" target=\"_parent\"><img src=\"https://colab.research.google.com/assets/colab-badge.svg\" alt=\"Open In Colab\"/></a>"
      ]
    },
    {
      "cell_type": "markdown",
      "metadata": {
        "id": "Gu_sxK-id8Zw"
      },
      "source": [
        "1.Given a list l=[23, 45, 25 ,78, 90, 45, 22, 56, 99, 12, 9, 75, 32]\n",
        "\n",
        "Write a single line program to display.\n",
        "\n",
        "a) elements at even index in the list.\n",
        "\n",
        "b) remove the 3 middle elements (45, 22 and 56)"
      ]
    },
    {
      "cell_type": "code",
      "metadata": {
        "id": "hiAZt40tgbu8",
        "outputId": "fe73f6fe-613a-4a1c-fa5b-532776d8a38c",
        "colab": {
          "base_uri": "https://localhost:8080/"
        }
      },
      "source": [
        "#please write the code below this line\n",
        "l = [23, 45, 25 ,78, 90, 45, 22, 56, 99, 12, 9, 75, 32]\n",
        "for e in l:\n",
        "  if (l.index(e))%2==0:\n",
        "    print(e)\n",
        "del l[5:8]\n",
        "print(l)"
      ],
      "execution_count": 6,
      "outputs": [
        {
          "output_type": "stream",
          "text": [
            "23\n",
            "25\n",
            "90\n",
            "22\n",
            "99\n",
            "9\n",
            "32\n",
            "[23, 45, 25, 78, 90, 99, 12, 9, 75, 32]\n"
          ],
          "name": "stdout"
        }
      ]
    },
    {
      "cell_type": "markdown",
      "metadata": {
        "id": "EyjCDxcygv2C"
      },
      "source": [
        "2.Given a list lowerCase=['a', 'e', 'i', 'o', 'u']\n",
        "Create a new list upperCase using list comprehension and copy the content of the lowerCase list, but in uppercase (capital letters). (upperCase should be ['A', 'E', 'I', 'O', 'U'])"
      ]
    },
    {
      "cell_type": "code",
      "metadata": {
        "id": "-HhhWi7jhGIj",
        "outputId": "0706b71e-5f29-4e75-d642-160830271976",
        "colab": {
          "base_uri": "https://localhost:8080/"
        }
      },
      "source": [
        "#please write the code below this line\n",
        "lowerCase = ['a', 'e', 'i', 'o', 'u']\n",
        "upperCase = []\n",
        "for c in lowerCase:\n",
        "  upperCase.append(c.capitalize())\n",
        "print(upperCase)"
      ],
      "execution_count": 2,
      "outputs": [
        {
          "output_type": "stream",
          "text": [
            "['A', 'E', 'I', 'O', 'U']\n"
          ],
          "name": "stdout"
        }
      ]
    },
    {
      "cell_type": "markdown",
      "metadata": {
        "id": "YkTzwuJphPxV"
      },
      "source": [
        "3.Given a tuple fruits = (\"banana\", \"cherry\", \"apple\", \"grapes\")\n",
        "Create 3 variables yellow, red and green and assign them with fruits of their respective color.\n",
        "(yellow=\"banana\", red=[\"cherry\", \"apple\"], green=\"grapes (hint- Use unpacking)"
      ]
    },
    {
      "cell_type": "code",
      "metadata": {
        "id": "cSaKkX2mh33Q",
        "outputId": "e1c75236-ec11-4ab3-c557-cf1bd767bc4c",
        "colab": {
          "base_uri": "https://localhost:8080/"
        }
      },
      "source": [
        "#please write the code below this line\n",
        "fruits = (\"banana\", \"cherry\", \"apple\", \"grapes\")\n",
        "(yellow, r1, r2, green) = fruits\n",
        "red = (r1, r2)\n",
        "print(yellow)\n",
        "print(red)\n",
        "print(green)"
      ],
      "execution_count": 13,
      "outputs": [
        {
          "output_type": "stream",
          "text": [
            "banana\n",
            "('cherry', 'apple')\n",
            "grapes\n",
            "('banana', 'cherry', 'apple', 'grapes')\n"
          ],
          "name": "stdout"
        }
      ]
    }
  ]
}