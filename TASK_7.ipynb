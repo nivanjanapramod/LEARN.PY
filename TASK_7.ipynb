{
  "nbformat": 4,
  "nbformat_minor": 0,
  "metadata": {
    "colab": {
      "name": "TASK  7.ipynb",
      "provenance": [],
      "include_colab_link": true
    },
    "kernelspec": {
      "name": "python3",
      "display_name": "Python 3"
    },
    "language_info": {
      "name": "python"
    }
  },
  "cells": [
    {
      "cell_type": "markdown",
      "metadata": {
        "id": "view-in-github",
        "colab_type": "text"
      },
      "source": [
        "<a href=\"https://colab.research.google.com/github/nivanjanapramod/LEARN.PY/blob/main/TASK_7.ipynb\" target=\"_parent\"><img src=\"https://colab.research.google.com/assets/colab-badge.svg\" alt=\"Open In Colab\"/></a>"
      ]
    },
    {
      "cell_type": "markdown",
      "metadata": {
        "id": "b0V3vwzcydKy"
      },
      "source": [
        "1. Write a program to check whether a  string is palindrome or not using functions. \n",
        "\n",
        "   ( A function is to be created to check whether the string is palindrome and it should give the output true or false to the main program)"
      ]
    },
    {
      "cell_type": "code",
      "metadata": {
        "id": "M2Mi7EOdyxiu",
        "outputId": "bb325f4a-4bac-4849-8137-2aa00595e9c6",
        "colab": {
          "base_uri": "https://localhost:8080/"
        }
      },
      "source": [
        "#please enter the code below this line.\n",
        "def palindrome(s):\n",
        "  w = s[::-1]\n",
        "  if s==w:\n",
        "    return True\n",
        "  else:\n",
        "    return False\n",
        "    \n",
        "str = input()\n",
        "ansr = palindrome(str)\n",
        "print(ansr)"
      ],
      "execution_count": 6,
      "outputs": [
        {
          "output_type": "stream",
          "text": [
            "malayalam\n",
            "True\n"
          ],
          "name": "stdout"
        }
      ]
    },
    {
      "cell_type": "markdown",
      "metadata": {
        "id": "vSiShTyOzEz-"
      },
      "source": [
        "2.  Write a menu driven program to find largest element in L, smallest element, avg of all values, sum of all values in L. All these operation should be performed in different functions and the result should be returned.\n",
        "\n",
        "\n",
        "      L=[23,24,11,90,1,41,9,99,28,56,72]"
      ]
    },
    {
      "cell_type": "code",
      "metadata": {
        "id": "fRtMIw_CzsmO",
        "outputId": "85090170-e13f-4b26-daa2-7654d7b3233c",
        "colab": {
          "base_uri": "https://localhost:8080/"
        }
      },
      "source": [
        "#please enter the code below this line.\n",
        "def max_value(l):\n",
        "  return max(l)\n",
        "\n",
        "def min_value(l):\n",
        "  return min(l)\n",
        "\n",
        "def sum_value(l):\n",
        "  return sum(l)\n",
        "\n",
        "def avg_value(l):\n",
        "  return sum(l)/len(l)\n",
        "\n",
        "l = [23,24,11,90,1,41,9,99,28,56,72]\n",
        "print(\"Choices:\\n1.Maximum\\n2.Minimum\\n3.Sum\\n4.Average\\n\")\n",
        "for i in range(4):\n",
        "  print(\"Enter Choice:\")\n",
        "  n = int(input())\n",
        "  if n==1:\n",
        "    print(max_value(l))\n",
        "  elif n==2:\n",
        "    print(min_value(l))\n",
        "  elif n==3:\n",
        "    print(sum_value(l))\n",
        "  elif n==4:\n",
        "    print(avg_value(l))\n",
        "  else:\n",
        "    print(\"Invalid Choice\")"
      ],
      "execution_count": 12,
      "outputs": [
        {
          "output_type": "stream",
          "text": [
            "Choices:\n",
            "1.Maximum\n",
            "2.Minimum\n",
            "3.Sum\n",
            "4.Average\n",
            "\n",
            "Enter Choice:\n",
            "1\n",
            "99\n",
            "Enter Choice:\n",
            "2\n",
            "1\n",
            "Enter Choice:\n",
            "3\n",
            "454\n",
            "Enter Choice:\n",
            "4\n",
            "41.27272727272727\n"
          ],
          "name": "stdout"
        }
      ]
    }
  ]
}