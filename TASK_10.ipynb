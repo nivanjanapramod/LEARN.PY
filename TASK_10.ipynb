{
  "nbformat": 4,
  "nbformat_minor": 0,
  "metadata": {
    "colab": {
      "name": "TASK 10.ipynb",
      "provenance": [],
      "include_colab_link": true
    },
    "kernelspec": {
      "name": "python3",
      "display_name": "Python 3"
    },
    "language_info": {
      "name": "python"
    }
  },
  "cells": [
    {
      "cell_type": "markdown",
      "metadata": {
        "id": "view-in-github",
        "colab_type": "text"
      },
      "source": [
        "<a href=\"https://colab.research.google.com/github/nivanjanapramod/LEARN.PY/blob/main/TASK_10.ipynb\" target=\"_parent\"><img src=\"https://colab.research.google.com/assets/colab-badge.svg\" alt=\"Open In Colab\"/></a>"
      ]
    },
    {
      "cell_type": "markdown",
      "metadata": {
        "id": "VHKxwUewxOi2"
      },
      "source": [
        "1. Generate two  3 x 3 matrix and find it's dot product and take the transpose of the answer."
      ]
    },
    {
      "cell_type": "code",
      "metadata": {
        "id": "RdyKd1CAxZtR",
        "outputId": "f00ff12c-4288-4de4-8e35-f345b61efb4c",
        "colab": {
          "base_uri": "https://localhost:8080/"
        }
      },
      "source": [
        "#please provide your answer below this line.\n",
        "import numpy\n",
        "a = numpy.arange(1,10).reshape(3,3)\n",
        "b = numpy.arange(11,20).reshape(3,3)\n",
        "dot = numpy.dot(a, b)\n",
        "t=dot.transpose()\n",
        "print(\"dot product\\n\",dot)\n",
        "print(\"Transpose\\n\",t)\n"
      ],
      "execution_count": 6,
      "outputs": [
        {
          "output_type": "stream",
          "text": [
            "dot product\n",
            " [[ 90  96 102]\n",
            " [216 231 246]\n",
            " [342 366 390]]\n",
            "Transpose\n",
            " [[ 90 216 342]\n",
            " [ 96 231 366]\n",
            " [102 246 390]]\n"
          ],
          "name": "stdout"
        }
      ]
    },
    {
      "cell_type": "markdown",
      "metadata": {
        "id": "9c9ZwiBxxf4t"
      },
      "source": [
        "2. Create a 3x3 matrix with elements [55,25,15], [30,44,2], [11,45,77] . Now find the determinant of the given matrix."
      ]
    },
    {
      "cell_type": "code",
      "metadata": {
        "id": "Anmr3C9KyNyy",
        "outputId": "83459384-b8b6-4473-9155-beaf72974ff8",
        "colab": {
          "base_uri": "https://localhost:8080/"
        }
      },
      "source": [
        "#please provide your answer below this line.\n",
        "import numpy\n",
        "\n",
        "a = numpy.array([55,25,15,30,44,2,11,45,77]).reshape(3,3)\n",
        "print(\"determinant\\n\",numpy.linalg.det(a))"
      ],
      "execution_count": 16,
      "outputs": [
        {
          "output_type": "stream",
          "text": [
            "determinant\n",
            " 137180.0000000001\n"
          ],
          "name": "stdout"
        }
      ]
    }
  ]
}